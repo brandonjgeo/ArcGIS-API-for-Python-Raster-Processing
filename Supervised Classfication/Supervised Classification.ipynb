{
 "cells": [
  {
   "cell_type": "code",
   "execution_count": null,
   "metadata": {},
   "outputs": [],
   "source": [
    "#-----------------------------------------#\n",
    "# Brandon George, Kane Diaz, Kevin Bodrogi\n",
    "# Supervised Classification\n",
    "# Python 3.9.2\n",
    "# MIT License\n",
    "#-----------------------------------------# \n",
    "\n",
    "# Import Statements:\n",
    "import arcpy\n",
    "import os\n",
    "from arcpy import env as e\n",
    "from arcpy.sa import *\n",
    "\n",
    "# Getting user path to geodatabase \n",
    "workspace = input(\"Enter path of workspace: \")\n",
    "\n",
    "# Setting workspace\n",
    "e.overwriteOutput = True\n",
    "e.workspace = workspace\n",
    "\n",
    "# Function to determine if operations were successful \n",
    "def feedback():\n",
    "    return(\"* Operation successful.\")"
   ]
  },
  {
   "cell_type": "code",
   "execution_count": null,
   "metadata": {},
   "outputs": [],
   "source": [
    "# Data dictionary\n",
    "trainingSamples = workspace + \"\\\\TrainingSamples.shp\"\n",
    "outDef = \"C:\\\\Mosaic_clip_class.ecd\"\n",
    "raster = workspace + \"\\\\MosaicClip\"\n",
    "\n",
    "# Train Support Vector Machine Classifier (training samples for .ecd file) \n",
    "# You will need to manually create a FeatureClass of trained polygons to plug in.\n",
    "def TrainRaster():\n",
    "    \n",
    "    # Stating Process \n",
    "    print(\"Creating classified mosiac\")\n",
    "    \n",
    "    # Check out license\n",
    "    arcpy.CheckOutExtension(\"ImageAnalyst\")\n",
    "    \n",
    "    TrainRaster = raster\n",
    "    \n",
    "    if arcpy.Exists(TrainRaster):\n",
    "        TrainSupportVectorMachineClassifier(raster, trainingSamples, outDef)\n",
    "        print(\"Training file (.ecd) created for classification\")\n",
    "    \n",
    "    # Check in licenses.\n",
    "    arcpy.CheckInExtension(\"ImageAnalyst\")\n",
    "        \n",
    "# Run the classify raster tool using the new .ecd file created above and create new supervised classification.\n",
    "def rasterClass():    \n",
    "    classify = ClassifyRaster(raster, outDef)\n",
    "    raster_out = workspace + \"\\\\Mosaic_classified\"\n",
    "    classify.save(raster_out)\n",
    "    print(\"Classified Raster output created\")"
   ]
  },
  {
   "cell_type": "code",
   "execution_count": null,
   "metadata": {},
   "outputs": [],
   "source": [
    "# Program will execute from here.\n",
    "if __name__ == '__main__': \n",
    "    \n",
    "    TrainRaster()\n",
    "    feedbackReturn = feedback()\n",
    "    print(feedbackReturn + '\\n')\n",
    "    \n",
    "    rasterClass()\n",
    "    feedbackReturn = feedback()\n",
    "    print(feedbackReturn + '\\n')"
   ]
  }
 ],
 "metadata": {
  "kernelspec": {
   "display_name": "ArcGISPro",
   "language": "Python",
   "name": "python3"
  },
  "language_info": {
   "file_extension": ".py",
   "name": "python",
   "version": "3"
  }
 },
 "nbformat": 4,
 "nbformat_minor": 2
}
