{
 "cells": [
  {
   "cell_type": "code",
   "execution_count": null,
   "metadata": {},
   "outputs": [],
   "source": [
    "#-----------------------------------------------------#\n",
    "# Brandon George, Kane Diaz, Kevin Bodrogi\n",
    "# Canopy Height Model (CHM) = DSM - DTM \n",
    "# Also known as nDSM\n",
    "# Python 3.9.2\n",
    "# MIT License\n",
    "#-----------------------------------------------------#\n",
    "\n",
    "# Import Statements:\n",
    "import arcpy\n",
    "import os\n",
    "from arcpy import env as e\n",
    "from arcpy.sa import *\n",
    "\n",
    "# Getting user path to geodatabase \n",
    "workspace = input(\"Enter path of workspace: \")\n",
    "\n",
    "# Setting workspace\n",
    "e.overwriteOutput = True\n",
    "e.workspace = workspace\n",
    "\n",
    "# Function to determine if operations were successful \n",
    "def feedback():\n",
    "    return(\"* Operation successful.\")"
   ]
  },
  {
   "cell_type": "code",
   "execution_count": null,
   "metadata": {},
   "outputs": [],
   "source": [
    "def CHM():\n",
    "    \n",
    "    # Stating Process \n",
    "    print(\"Creating Canopy Height Model (CHM)\")\n",
    "    \n",
    "    # If license available create CHM \n",
    "    if arcpy.CheckExtension(\"3D\") == \"Available\":\n",
    "        \n",
    "        # Check out license.\n",
    "        arcpy.CheckOutExtension(\"3D\")\n",
    "        print(\"3D Analyst Extension enabled. Please wait as the Canopy Height Model is created.\")\n",
    "        \n",
    "        # DSM and DTM location\n",
    "        dsm = arcpy.Raster(\"DSM_Clip\")\n",
    "        dtm = arcpy.Raster(\"DTM_Clip\")\n",
    "        \n",
    "        # IMPORTANT - Save your output with the .tif extension for a viewable output (viewed below as \"CHM.tif\")\n",
    "        chm = arcpy.Minus_3d(dsm, dtm, \"CHM\")\n",
    "        \n",
    "        # Check in license.\n",
    "        arcpy.CheckInExtension(\"3D\")\n",
    "        print(\"Canopy Height Model created. 3D Analyst disabled. Check your worksapce for results.\")\n",
    "        \n",
    "    else:\n",
    "        # Status report on license availability \n",
    "        print(\"3D Analyst Extension unavailable. Check licenses.\") "
   ]
  },
  {
   "cell_type": "code",
   "execution_count": null,
   "metadata": {},
   "outputs": [],
   "source": [
    "# Program will execute from here.\n",
    "if __name__ == '__main__': \n",
    "    \n",
    "    CHM()\n",
    "    feedbackReturn = feedback()\n",
    "    print(feedbackReturn + '\\n')"
   ]
  }
 ],
 "metadata": {
  "kernelspec": {
   "display_name": "ArcGISPro",
   "language": "Python",
   "name": "python3"
  },
  "language_info": {
   "file_extension": ".py",
   "name": "python",
   "version": "3"
  }
 },
 "nbformat": 4,
 "nbformat_minor": 2
}
